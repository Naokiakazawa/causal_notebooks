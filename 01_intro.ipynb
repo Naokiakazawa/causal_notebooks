{
 "cells": [
  {
   "cell_type": "code",
   "execution_count": null,
   "id": "733d7341-40aa-4a13-a8e5-3c1792a89809",
   "metadata": {},
   "outputs": [],
   "source": [
    "import random\n",
    "\n",
    "with open(\"data/sample_data.csv\", \"w\", newline=\"\") as f:\n",
    "    f.write(\"id,group,score,age\\n\")\n",
    "    for i in range(1, 101):\n",
    "        group = random.choice([\"A\", \"B\"])        # グループは \"A\" または \"B\"\n",
    "        score = random.randint(60, 100)            # scoreは60～100の整数\n",
    "        age = random.randint(20, 40)               # ageは20～40の整数\n",
    "        f.write(f\"{i},{group},{score},{age}\\n\")\n",
    "print(\"sample_data.csv ファイルが50行分のランダムなデータで作成されました。\")"
   ]
  },
  {
   "cell_type": "code",
   "execution_count": null,
   "id": "660100de-db2e-4143-9376-de89be9053de",
   "metadata": {},
   "outputs": [],
   "source": [
    "# 必要なライブラリのインポート\n",
    "import numpy as np\n",
    "import pandas as pd\n",
    "import matplotlib.pyplot as plt\n",
    "import seaborn as sns\n",
    "from scipy import stats\n",
    "\n",
    "%matplotlib inline\n",
    "\n",
    "print(\"ライブラリの読み込み完了!\")"
   ]
  },
  {
   "cell_type": "code",
   "execution_count": null,
   "id": "aa580d05-8f27-4a0b-b07a-2f71f6ff0f7f",
   "metadata": {},
   "outputs": [],
   "source": [
    "# サンプルCSVの読み込み例\n",
    "df = pd.read_csv('sample_data.csv')\n",
    "display(df.head())"
   ]
  },
  {
   "cell_type": "code",
   "execution_count": null,
   "id": "9ce6ded5-c717-46b9-ad5c-78a8daa5d485",
   "metadata": {},
   "outputs": [],
   "source": [
    "# CSVデータの読み込み\n",
    "df = pd.read_csv('sample_data.csv')\n",
    "\n",
    "# データの先頭5行を表示\n",
    "display(df.head())\n",
    "\n",
    "# データの情報（カラム名、データ型、欠損値の有無など）を表示\n",
    "print(df.info())\n",
    "\n",
    "# 基本的な統計量（平均、標準偏差、最小値、最大値など）を表示\n",
    "print(df.describe())\n",
    "\n",
    "# グループごとの平均値（例：group列でグループ分けし、scoreの平均値を計算）\n",
    "group_mean = df.groupby('group')['score'].mean()\n",
    "print(\"グループ別のscore平均値:\")\n",
    "print(group_mean)"
   ]
  },
  {
   "cell_type": "code",
   "execution_count": null,
   "id": "03bbb88e-509d-43b6-a3cd-6ea0fc9a5a40",
   "metadata": {},
   "outputs": [],
   "source": [
    "# ヒストグラムの作成: scoreの分布を確認\n",
    "sns.histplot(df['score'], kde=True)\n",
    "plt.title(\"Distribution of Score\")\n",
    "plt.xlabel(\"Score\")\n",
    "plt.ylabel(\"Frequency\")\n",
    "plt.show()"
   ]
  },
  {
   "cell_type": "code",
   "execution_count": null,
   "id": "b248fdbd-b57c-4126-ab8c-3e486261a768",
   "metadata": {},
   "outputs": [],
   "source": [
    "# 散布図の作成: ageとscoreの関係性を確認\n",
    "sns.scatterplot(x='age', y='score', data=df, hue='group', style='group', s=100)\n",
    "plt.title(\"Age vs Score\")\n",
    "plt.xlabel(\"Age\")\n",
    "plt.ylabel(\"Score\")\n",
    "plt.show()"
   ]
  },
  {
   "cell_type": "code",
   "execution_count": null,
   "id": "9b88bf0d-00a0-4354-a20a-d2b1b8132de7",
   "metadata": {},
   "outputs": [],
   "source": [
    "# 箱ひげ図の作成: グループごとのscoreのばらつきと外れ値を確認\n",
    "sns.boxplot(x='group', y='score', data=df)\n",
    "plt.title(\"Distribution of Score (By Group)\")\n",
    "plt.xlabel(\"Group\")\n",
    "plt.ylabel(\"Score\")\n",
    "plt.show()"
   ]
  },
  {
   "cell_type": "code",
   "execution_count": null,
   "id": "44ac1514-852f-4055-a908-7c6cb95babf8",
   "metadata": {},
   "outputs": [],
   "source": [
    "# group Aとgroup Bのscoreデータを抽出\n",
    "group_A = df[df['group'] == 'A']['score']\n",
    "group_B = df[df['group'] == 'B']['score']\n",
    "\n",
    "# 独立2群のt検定を実行\n",
    "t_stat, p_value = stats.ttest_ind(group_A, group_B)\n",
    "\n",
    "print(f\"t統計量: {t_stat:.3f}\")\n",
    "print(f\"p値: {p_value:.3f}\")\n",
    "\n",
    "if p_value < 0.05:\n",
    "    print(\"統計的に有意な差があると判断できます。\")\n",
    "else:\n",
    "    print(\"統計的に有意な差は認められません。\")"
   ]
  },
  {
   "cell_type": "code",
   "execution_count": null,
   "id": "117b745e-4b52-4513-a34f-68314abe0398",
   "metadata": {},
   "outputs": [],
   "source": []
  }
 ],
 "metadata": {
  "kernelspec": {
   "display_name": "Python 3 (ipykernel)",
   "language": "python",
   "name": "python3"
  },
  "language_info": {
   "codemirror_mode": {
    "name": "ipython",
    "version": 3
   },
   "file_extension": ".py",
   "mimetype": "text/x-python",
   "name": "python",
   "nbconvert_exporter": "python",
   "pygments_lexer": "ipython3",
   "version": "3.11.9"
  }
 },
 "nbformat": 4,
 "nbformat_minor": 5
}
