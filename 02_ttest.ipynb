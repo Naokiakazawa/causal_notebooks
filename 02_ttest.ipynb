{
 "cells": [
  {
   "cell_type": "code",
   "execution_count": 10,
   "id": "065aa9e3-6f66-4b3e-b69d-79dfb1e4f590",
   "metadata": {},
   "outputs": [
    {
     "name": "stdout",
     "output_type": "stream",
     "text": [
      "sample_ttest_data.csv ファイルが100行分のランダムなデータで作成されました。\n"
     ]
    }
   ],
   "source": [
    "import random\n",
    "\n",
    "with open(\"data/sample_ttest_data.csv\", \"w\", newline=\"\") as f:\n",
    "    f.write(\"id,group,score,age\\n\")\n",
    "    for i in range(1, 101):\n",
    "        group = random.choice([\"A\", \"B\"])\n",
    "        if group == \"A\":\n",
    "            # Group A: score between 60 and 80\n",
    "            score = random.randint(60, 80)\n",
    "        else:\n",
    "            # Group B: score between 85 and 100\n",
    "            score = random.randint(85, 100)\n",
    "        age = random.randint(20, 40)\n",
    "        f.write(f\"{i},{group},{score},{age}\\n\")\n",
    "\n",
    "print(\"sample_ttest_data.csv ファイルが100行分のランダムなデータで作成されました。\")"
   ]
  },
  {
   "cell_type": "code",
   "execution_count": 11,
   "id": "17f32365-9262-45da-ae0c-7f6c194d8236",
   "metadata": {},
   "outputs": [
    {
     "name": "stdout",
     "output_type": "stream",
     "text": [
      "ライブラリの読み込み完了!\n"
     ]
    }
   ],
   "source": [
    "# 必要なライブラリのインポート\n",
    "import numpy as np\n",
    "import pandas as pd\n",
    "import matplotlib.pyplot as plt\n",
    "import seaborn as sns\n",
    "from scipy import stats\n",
    "\n",
    "%matplotlib inline\n",
    "\n",
    "print(\"ライブラリの読み込み完了!\")"
   ]
  },
  {
   "cell_type": "code",
   "execution_count": 12,
   "id": "cc54c539-7cd3-42da-967f-b0f87adb19fc",
   "metadata": {},
   "outputs": [
    {
     "data": {
      "text/html": [
       "<div>\n",
       "<style scoped>\n",
       "    .dataframe tbody tr th:only-of-type {\n",
       "        vertical-align: middle;\n",
       "    }\n",
       "\n",
       "    .dataframe tbody tr th {\n",
       "        vertical-align: top;\n",
       "    }\n",
       "\n",
       "    .dataframe thead th {\n",
       "        text-align: right;\n",
       "    }\n",
       "</style>\n",
       "<table border=\"1\" class=\"dataframe\">\n",
       "  <thead>\n",
       "    <tr style=\"text-align: right;\">\n",
       "      <th></th>\n",
       "      <th>id</th>\n",
       "      <th>group</th>\n",
       "      <th>score</th>\n",
       "      <th>age</th>\n",
       "    </tr>\n",
       "  </thead>\n",
       "  <tbody>\n",
       "    <tr>\n",
       "      <th>0</th>\n",
       "      <td>1</td>\n",
       "      <td>B</td>\n",
       "      <td>91</td>\n",
       "      <td>36</td>\n",
       "    </tr>\n",
       "    <tr>\n",
       "      <th>1</th>\n",
       "      <td>2</td>\n",
       "      <td>A</td>\n",
       "      <td>65</td>\n",
       "      <td>32</td>\n",
       "    </tr>\n",
       "    <tr>\n",
       "      <th>2</th>\n",
       "      <td>3</td>\n",
       "      <td>A</td>\n",
       "      <td>70</td>\n",
       "      <td>33</td>\n",
       "    </tr>\n",
       "    <tr>\n",
       "      <th>3</th>\n",
       "      <td>4</td>\n",
       "      <td>A</td>\n",
       "      <td>67</td>\n",
       "      <td>28</td>\n",
       "    </tr>\n",
       "    <tr>\n",
       "      <th>4</th>\n",
       "      <td>5</td>\n",
       "      <td>B</td>\n",
       "      <td>100</td>\n",
       "      <td>36</td>\n",
       "    </tr>\n",
       "  </tbody>\n",
       "</table>\n",
       "</div>"
      ],
      "text/plain": [
       "   id group  score  age\n",
       "0   1     B     91   36\n",
       "1   2     A     65   32\n",
       "2   3     A     70   33\n",
       "3   4     A     67   28\n",
       "4   5     B    100   36"
      ]
     },
     "metadata": {},
     "output_type": "display_data"
    }
   ],
   "source": [
    "# サンプルCSVの読み込み例\n",
    "df = pd.read_csv('data/sample_ttest_data.csv')\n",
    "display(df.head())"
   ]
  },
  {
   "cell_type": "code",
   "execution_count": 13,
   "id": "8946fef3-ed88-410b-92bd-bea450e21be3",
   "metadata": {},
   "outputs": [
    {
     "data": {
      "text/html": [
       "<div>\n",
       "<style scoped>\n",
       "    .dataframe tbody tr th:only-of-type {\n",
       "        vertical-align: middle;\n",
       "    }\n",
       "\n",
       "    .dataframe tbody tr th {\n",
       "        vertical-align: top;\n",
       "    }\n",
       "\n",
       "    .dataframe thead th {\n",
       "        text-align: right;\n",
       "    }\n",
       "</style>\n",
       "<table border=\"1\" class=\"dataframe\">\n",
       "  <thead>\n",
       "    <tr style=\"text-align: right;\">\n",
       "      <th></th>\n",
       "      <th>id</th>\n",
       "      <th>group</th>\n",
       "      <th>score</th>\n",
       "      <th>age</th>\n",
       "    </tr>\n",
       "  </thead>\n",
       "  <tbody>\n",
       "    <tr>\n",
       "      <th>0</th>\n",
       "      <td>1</td>\n",
       "      <td>B</td>\n",
       "      <td>91</td>\n",
       "      <td>36</td>\n",
       "    </tr>\n",
       "    <tr>\n",
       "      <th>1</th>\n",
       "      <td>2</td>\n",
       "      <td>A</td>\n",
       "      <td>65</td>\n",
       "      <td>32</td>\n",
       "    </tr>\n",
       "    <tr>\n",
       "      <th>2</th>\n",
       "      <td>3</td>\n",
       "      <td>A</td>\n",
       "      <td>70</td>\n",
       "      <td>33</td>\n",
       "    </tr>\n",
       "    <tr>\n",
       "      <th>3</th>\n",
       "      <td>4</td>\n",
       "      <td>A</td>\n",
       "      <td>67</td>\n",
       "      <td>28</td>\n",
       "    </tr>\n",
       "    <tr>\n",
       "      <th>4</th>\n",
       "      <td>5</td>\n",
       "      <td>B</td>\n",
       "      <td>100</td>\n",
       "      <td>36</td>\n",
       "    </tr>\n",
       "  </tbody>\n",
       "</table>\n",
       "</div>"
      ],
      "text/plain": [
       "   id group  score  age\n",
       "0   1     B     91   36\n",
       "1   2     A     65   32\n",
       "2   3     A     70   33\n",
       "3   4     A     67   28\n",
       "4   5     B    100   36"
      ]
     },
     "metadata": {},
     "output_type": "display_data"
    },
    {
     "name": "stdout",
     "output_type": "stream",
     "text": [
      "<class 'pandas.core.frame.DataFrame'>\n",
      "RangeIndex: 100 entries, 0 to 99\n",
      "Data columns (total 4 columns):\n",
      " #   Column  Non-Null Count  Dtype \n",
      "---  ------  --------------  ----- \n",
      " 0   id      100 non-null    int64 \n",
      " 1   group   100 non-null    object\n",
      " 2   score   100 non-null    int64 \n",
      " 3   age     100 non-null    int64 \n",
      "dtypes: int64(3), object(1)\n",
      "memory usage: 3.3+ KB\n",
      "None\n",
      "               id      score         age\n",
      "count  100.000000  100.00000  100.000000\n",
      "mean    50.500000   79.77000   30.820000\n",
      "std     29.011492   12.72622    6.372891\n",
      "min      1.000000   60.00000   20.000000\n",
      "25%     25.750000   68.00000   25.000000\n",
      "50%     50.500000   78.50000   31.000000\n",
      "75%     75.250000   91.00000   37.000000\n",
      "max    100.000000  100.00000   40.000000\n",
      "グループ別のscore平均値:\n",
      "group\n",
      "A    69.203704\n",
      "B    92.173913\n",
      "Name: score, dtype: float64\n"
     ]
    }
   ],
   "source": [
    "# CSVデータの読み込み\n",
    "df = pd.read_csv('data/sample_ttest_data.csv')\n",
    "\n",
    "# データの先頭5行を表示\n",
    "display(df.head())\n",
    "\n",
    "# データの情報（カラム名、データ型、欠損値の有無など）を表示\n",
    "print(df.info())\n",
    "\n",
    "# 基本的な統計量（平均、標準偏差、最小値、最大値など）を表示\n",
    "print(df.describe())\n",
    "\n",
    "# グループごとの平均値（例：group列でグループ分けし、scoreの平均値を計算）\n",
    "group_mean = df.groupby('group')['score'].mean()\n",
    "print(\"グループ別のscore平均値:\")\n",
    "print(group_mean)"
   ]
  },
  {
   "cell_type": "code",
   "execution_count": 14,
   "id": "007b01c8-8bd5-48bd-9491-17b0d8f2b7fd",
   "metadata": {},
   "outputs": [
    {
     "data": {
      "image/png": "[encoded data removed]",
      "text/plain": [
       "<Figure size 640x480 with 1 Axes>"
      ]
     },
     "metadata": {},
     "output_type": "display_data"
    }
   ],
   "source": [
    "# 箱ひげ図の作成: グループごとのscoreのばらつきと外れ値を確認\n",
    "sns.boxplot(x='group', y='score', data=df)\n",
    "plt.title(\"Distribution of Score (By Group)\")\n",
    "plt.xlabel(\"Group\")\n",
    "plt.ylabel(\"Score\")\n",
    "plt.show()"
   ]
  },
  {
   "cell_type": "code",
   "execution_count": 15,
   "id": "e939b12a-d1d3-4a2a-9fea-0f0037d09c8d",
   "metadata": {},
   "outputs": [
    {
     "name": "stdout",
     "output_type": "stream",
     "text": [
      "t統計量: -20.947\n",
      "p値: 0.000\n",
      "統計的に有意な差があると判断できます。\n"
     ]
    }
   ],
   "source": [
    "# group Aとgroup Bのscoreデータを抽出\n",
    "group_A = df[df['group'] == 'A']['score']\n",
    "group_B = df[df['group'] == 'B']['score']\n",
    "\n",
    "# 独立2群のt検定を実行\n",
    "t_stat, p_value = stats.ttest_ind(group_A, group_B)\n",
    "\n",
    "print(f\"t統計量: {t_stat:.3f}\")\n",
    "print(f\"p値: {p_value:.3f}\")\n",
    "\n",
    "if p_value < 0.05:\n",
    "    print(\"統計的に有意な差があると判断できます。\")\n",
    "else:\n",
    "    print(\"統計的に有意な差は認められません。\")"
   ]
  },
  {
   "cell_type": "code",
   "execution_count": null,
   "id": "95332364-e5a6-49c8-8bcb-f482642e26ac",
   "metadata": {},
   "outputs": [],
   "source": []
  }
 ],
 "metadata": {
  "kernelspec": {
   "display_name": "Python 3 (ipykernel)",
   "language": "python",
   "name": "python3"
  },
  "language_info": {
   "codemirror_mode": {
    "name": "ipython",
    "version": 3
   },
   "file_extension": ".py",
   "mimetype": "text/x-python",
   "name": "python",
   "nbconvert_exporter": "python",
   "pygments_lexer": "ipython3",
   "version": "3.11.9"
  }
 },
 "nbformat": 4,
 "nbformat_minor": 5
}
