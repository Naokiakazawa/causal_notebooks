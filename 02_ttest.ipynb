{
 "cells": [
  {
   "cell_type": "code",
   "execution_count": null,
   "id": "065aa9e3-6f66-4b3e-b69d-79dfb1e4f590",
   "metadata": {},
   "outputs": [],
   "source": [
    "import random\n",
    "\n",
    "with open(\"data/sample_ttest_data.csv\", \"w\", newline=\"\") as f:\n",
    "    f.write(\"id,group,score,age\\n\")\n",
    "    for i in range(1, 101):\n",
    "        group = random.choice([\"A\", \"B\"])\n",
    "        if group == \"A\":\n",
    "            # Group A: score between 60 and 80\n",
    "            score = random.randint(60, 80)\n",
    "        else:\n",
    "            # Group B: score between 85 and 100\n",
    "            score = random.randint(85, 100)\n",
    "        age = random.randint(20, 40)\n",
    "        f.write(f\"{i},{group},{score},{age}\\n\")\n",
    "\n",
    "print(\"sample_ttest_data.csv ファイルが100行分のランダムなデータで作成されました。\")"
   ]
  },
  {
   "cell_type": "code",
   "execution_count": null,
   "id": "17f32365-9262-45da-ae0c-7f6c194d8236",
   "metadata": {},
   "outputs": [],
   "source": [
    "# 必要なライブラリのインポート\n",
    "import numpy as np\n",
    "import pandas as pd\n",
    "import matplotlib.pyplot as plt\n",
    "import seaborn as sns\n",
    "from scipy import stats\n",
    "\n",
    "%matplotlib inline\n",
    "\n",
    "print(\"ライブラリの読み込み完了!\")"
   ]
  },
  {
   "cell_type": "code",
   "execution_count": null,
   "id": "cc54c539-7cd3-42da-967f-b0f87adb19fc",
   "metadata": {},
   "outputs": [],
   "source": [
    "# サンプルCSVの読み込み例\n",
    "df = pd.read_csv('sample_ttest_data.csv')\n",
    "display(df.head())"
   ]
  },
  {
   "cell_type": "code",
   "execution_count": null,
   "id": "8946fef3-ed88-410b-92bd-bea450e21be3",
   "metadata": {},
   "outputs": [],
   "source": [
    "# CSVデータの読み込み\n",
    "df = pd.read_csv('sample_ttest_data.csv')\n",
    "\n",
    "# データの先頭5行を表示\n",
    "display(df.head())\n",
    "\n",
    "# データの情報（カラム名、データ型、欠損値の有無など）を表示\n",
    "print(df.info())\n",
    "\n",
    "# 基本的な統計量（平均、標準偏差、最小値、最大値など）を表示\n",
    "print(df.describe())\n",
    "\n",
    "# グループごとの平均値（例：group列でグループ分けし、scoreの平均値を計算）\n",
    "group_mean = df.groupby('group')['score'].mean()\n",
    "print(\"グループ別のscore平均値:\")\n",
    "print(group_mean)"
   ]
  },
  {
   "cell_type": "code",
   "execution_count": null,
   "id": "007b01c8-8bd5-48bd-9491-17b0d8f2b7fd",
   "metadata": {},
   "outputs": [],
   "source": [
    "# 箱ひげ図の作成: グループごとのscoreのばらつきと外れ値を確認\n",
    "sns.boxplot(x='group', y='score', data=df)\n",
    "plt.title(\"Distribution of Score (By Group)\")\n",
    "plt.xlabel(\"Group\")\n",
    "plt.ylabel(\"Score\")\n",
    "plt.show()"
   ]
  },
  {
   "cell_type": "code",
   "execution_count": null,
   "id": "e939b12a-d1d3-4a2a-9fea-0f0037d09c8d",
   "metadata": {},
   "outputs": [],
   "source": [
    "# group Aとgroup Bのscoreデータを抽出\n",
    "group_A = df[df['group'] == 'A']['score']\n",
    "group_B = df[df['group'] == 'B']['score']\n",
    "\n",
    "# 独立2群のt検定を実行\n",
    "t_stat, p_value = stats.ttest_ind(group_A, group_B)\n",
    "\n",
    "print(f\"t統計量: {t_stat:.3f}\")\n",
    "print(f\"p値: {p_value:.3f}\")\n",
    "\n",
    "if p_value < 0.05:\n",
    "    print(\"統計的に有意な差があると判断できます。\")\n",
    "else:\n",
    "    print(\"統計的に有意な差は認められません。\")"
   ]
  },
  {
   "cell_type": "code",
   "execution_count": null,
   "id": "95332364-e5a6-49c8-8bcb-f482642e26ac",
   "metadata": {},
   "outputs": [],
   "source": []
  }
 ],
 "metadata": {
  "kernelspec": {
   "display_name": "Python 3 (ipykernel)",
   "language": "python",
   "name": "python3"
  },
  "language_info": {
   "codemirror_mode": {
    "name": "ipython",
    "version": 3
   },
   "file_extension": ".py",
   "mimetype": "text/x-python",
   "name": "python",
   "nbconvert_exporter": "python",
   "pygments_lexer": "ipython3",
   "version": "3.11.9"
  }
 },
 "nbformat": 4,
 "nbformat_minor": 5
}
