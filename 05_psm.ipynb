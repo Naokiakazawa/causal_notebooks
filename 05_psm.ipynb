{
 "cells": [
  {
   "cell_type": "markdown",
   "id": "a259c271-6d9b-4321-bb3a-501910c106b7",
   "metadata": {},
   "source": [
    "# 傾向スコアマッチング"
   ]
  },
  {
   "cell_type": "markdown",
   "id": "87eb8fad-9f4e-4c14-a4c9-c85551e3af75",
   "metadata": {},
   "source": [
    "傾向スコアマッチングは、観察研究において因果効果を推定するための手法である。\n",
    "各サンプルが治療を受ける確率（傾向スコア）を推定し、治療群と対照群のサンプル間で、傾向スコアが類似するペアを形成する。これにより、交絡因子（confounders）の影響を制御し、治療効果をより正確に推定することができる。\n",
    "\n",
    "基本用語\n",
    "\t•\t傾向スコア (Propensity Score)\n",
    "各サンプルが治療を受ける確率  p(T=1 | X)  を表す。ここで、 X  は観測される共変量である。\n",
    "傾向スコアは通常、ロジスティック回帰などのモデルを用いて推定される。\n",
    "\t•\tマッチング\n",
    "傾向スコアに基づいて、治療群（ T=1 ）の各サンプルに対し、対照群（ T=0 ）から最も類似したサンプルをペアとして選ぶ。これにより、治療群と対照群間の共変量のバランスが改善される。\n",
    "\t•\t交絡因子 (Confounders)\n",
    "治療とアウトカムの両方に影響を与える要因であり、これが存在すると単純な比較では真の因果効果が歪められる可能性がある。傾向スコアマッチングは、これらの交絡因子の影響を調整する目的で用いられる。\n",
    "\n",
    "どのような時に利用されるか\n",
    "\n",
    "観察研究では、無作為化比較試験 (RCT) が実施できない場合が多い。そのような場合、治療の割り当てに偏りが生じる可能性があるが、傾向スコアマッチングを用いることで、治療群と対照群の共変量の分布を類似させ、擬似的なランダム化を実現できる。"
   ]
  },
  {
   "cell_type": "code",
   "execution_count": 2,
   "id": "920f0d28-68fa-4638-bbc6-126f7d98b506",
   "metadata": {},
   "outputs": [
    {
     "name": "stdout",
     "output_type": "stream",
     "text": [
      "                 age       sex  comorbidity    pscore\n",
      "treatment                                            \n",
      "0          46.489933  0.617450     2.427852  0.664663\n",
      "1          48.582215  0.562081     2.288591  0.664936\n"
     ]
    }
   ],
   "source": [
    "import pandas as pd\n",
    "import numpy as np\n",
    "import statsmodels.api as sm\n",
    "from sklearn.neighbors import NearestNeighbors\n",
    "\n",
    "# 仮のデータセットを生成する\n",
    "np.random.seed(42)\n",
    "n = 1000\n",
    "\n",
    "# 交絡因子: 年齢、性別、基礎疾患スコア\n",
    "age = np.random.randint(20, 70, n)\n",
    "sex = np.random.binomial(1, 0.5, n)\n",
    "comorbidity = np.random.randint(0, 5, n)\n",
    "\n",
    "# 傾向スコアを推定するためのロジスティック回帰モデルを仮定（ここではシミュレーション目的）\n",
    "X = np.column_stack((age, sex, comorbidity))\n",
    "logit = -3 + 0.05 * age + 0.8 * sex + 0.4 * comorbidity\n",
    "ps = 1 / (1 + np.exp(-logit))\n",
    "treatment = np.random.binomial(1, ps)\n",
    "\n",
    "df = pd.DataFrame({\n",
    "    'age': age,\n",
    "    'sex': sex,\n",
    "    'comorbidity': comorbidity,\n",
    "    'treatment': treatment,\n",
    "    'pscore': ps\n",
    "})\n",
    "\n",
    "# 治療群と対照群に分割\n",
    "treated = df[df['treatment'] == 1]\n",
    "control = df[df['treatment'] == 0]\n",
    "\n",
    "# 最近傍法による1対1マッチング（傾向スコアのみを使用）\n",
    "nn = NearestNeighbors(n_neighbors=1)\n",
    "nn.fit(control[['pscore']])\n",
    "distances, indices = nn.kneighbors(treated[['pscore']])\n",
    "\n",
    "# マッチング結果のデータを抽出\n",
    "control_matched = control.iloc[indices.flatten()].copy()\n",
    "treated = treated.reset_index(drop=True)\n",
    "matched = pd.concat([treated, control_matched], axis=0)\n",
    "\n",
    "# マッチング後の群ごとの平均値を確認\n",
    "print(matched.groupby('treatment').mean())"
   ]
  },
  {
   "cell_type": "code",
   "execution_count": null,
   "id": "f3c9e898-b56d-43a4-9d3b-8d9df120527d",
   "metadata": {},
   "outputs": [],
   "source": []
  }
 ],
 "metadata": {
  "kernelspec": {
   "display_name": "Python 3 (ipykernel)",
   "language": "python",
   "name": "python3"
  },
  "language_info": {
   "codemirror_mode": {
    "name": "ipython",
    "version": 3
   },
   "file_extension": ".py",
   "mimetype": "text/x-python",
   "name": "python",
   "nbconvert_exporter": "python",
   "pygments_lexer": "ipython3",
   "version": "3.11.9"
  }
 },
 "nbformat": 4,
 "nbformat_minor": 5
}
