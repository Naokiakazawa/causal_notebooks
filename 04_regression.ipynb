{
 "cells": [
  {
   "cell_type": "markdown",
   "id": "20bf99bd-3199-4e92-aca0-aa9fe41a25f0",
   "metadata": {},
   "source": [
    "# 回帰分析による因果効果推定"
   ]
  },
  {
   "cell_type": "markdown",
   "id": "b2c70a74-d71f-4638-9e26-ac849d19ca56",
   "metadata": {},
   "source": [
    "## OLS回帰 (Ordinary Least Squares)"
   ]
  },
  {
   "cell_type": "markdown",
   "id": "ef53bb68-2e88-4bca-a963-b4520f4abf3d",
   "metadata": {},
   "source": [
    "概要と基本用語\n",
    "\n",
    "OLS回帰 は、連続アウトカムに対して、説明変数（治療や交絡因子）とアウトカムの間の線形関係を推定する手法。\n",
    "\n",
    "- 回帰係数 ($\\beta$)：各説明変数がアウトカムに与える影響の大きさ\n",
    "- 切片 ($\\beta_0$)：すべての説明変数が0のときのアウトカムの予測値\n",
    "- 残差：実際の観測値 $Y_i$ と予測値 $\\hat{Y_i}$ の差  $\\epsilon_i = Y_i - \\hat{Y_i}$\n",
    "\n",
    "OLS 回帰モデルは以下の形で表される。\n",
    "\n",
    "$Y_i = \\beta_0 + \\beta_1 X_{1i} + \\beta_2 X_{2i} + \\cdots + \\beta_k X_{ki} + \\epsilon_i$"
   ]
  },
  {
   "cell_type": "code",
   "execution_count": 1,
   "id": "ed6301c7-a9c6-4b7c-80a1-4ec402b756f4",
   "metadata": {
    "scrolled": true
   },
   "outputs": [
    {
     "name": "stdout",
     "output_type": "stream",
     "text": [
      "                            OLS Regression Results                            \n",
      "==============================================================================\n",
      "Dep. Variable:                outcome   R-squared:                       0.711\n",
      "Model:                            OLS   Adj. R-squared:                  0.711\n",
      "Method:                 Least Squares   F-statistic:                 1.231e+04\n",
      "Date:                Mon, 17 Feb 2025   Prob (F-statistic):               0.00\n",
      "Time:                        16:33:25   Log-Likelihood:                -30280.\n",
      "No. Observations:               10000   AIC:                         6.057e+04\n",
      "Df Residuals:                    9997   BIC:                         6.059e+04\n",
      "Df Model:                           2                                         \n",
      "Covariance Type:            nonrobust                                         \n",
      "==============================================================================\n",
      "                 coef    std err          t      P>|t|      [0.025      0.975]\n",
      "------------------------------------------------------------------------------\n",
      "const         19.7749      0.183    108.029      0.000      19.416      20.134\n",
      "treatment     10.2499      0.100    102.514      0.000      10.054      10.446\n",
      "age            0.5041      0.004    118.935      0.000       0.496       0.512\n",
      "==============================================================================\n",
      "Omnibus:                        0.085   Durbin-Watson:                   2.023\n",
      "Prob(Omnibus):                  0.958   Jarque-Bera (JB):                0.106\n",
      "Skew:                           0.000   Prob(JB):                        0.948\n",
      "Kurtosis:                       2.984   Cond. No.                         155.\n",
      "==============================================================================\n",
      "\n",
      "Notes:\n",
      "[1] Standard Errors assume that the covariance matrix of the errors is correctly specified.\n"
     ]
    }
   ],
   "source": [
    "import numpy as np\n",
    "import pandas as pd\n",
    "import statsmodels.api as sm\n",
    "\n",
    "np.random.seed(42)\n",
    "n = 10000\n",
    "\n",
    "treatment = np.random.binomial(1, 0.5, n)\n",
    "age = np.random.randint(20, 61, n)\n",
    "base_outcome = 20 + age / 2 + np.random.normal(0, 5, n)\n",
    "treatment_effect = treatment * 10\n",
    "outcome = base_outcome + treatment_effect\n",
    "\n",
    "df_ols = pd.DataFrame({\n",
    "    'outcome': outcome,\n",
    "    'treatment': treatment,\n",
    "    'age': age\n",
    "})\n",
    "\n",
    "X = sm.add_constant(df_ols[['treatment', 'age']])\n",
    "y = df_ols['outcome']\n",
    "\n",
    "# この結果で、治療変数の係数 \\beta_1 が概ね 10 付近であれば、治療効果が正しく捉えられていることが確認できる。\n",
    "model_ols = sm.OLS(y, X).fit()\n",
    "print(model_ols.summary())"
   ]
  },
  {
   "cell_type": "markdown",
   "id": "00852d57-ab7d-4fbd-839d-ddcb331a5521",
   "metadata": {},
   "source": [
    "## ロジスティック回帰"
   ]
  },
  {
   "cell_type": "markdown",
   "id": "e50e9e65-a522-4f97-b26a-0ef06434b7c6",
   "metadata": {},
   "source": [
    "概要と基本用語\n",
    "\n",
    "ロジスティック回帰 は、アウトカムが二値の場合に用いられ、説明変数がアウトカムの発生確率に与える影響を推定する。\n",
    "\n",
    "- ロジット関数： $\\text{logit}(p) = \\ln\\left(\\frac{p}{1-p}\\right)$ \n",
    "- オッズ比：治療の有無でアウトカム発生のオッズがどのように変化するかを示す指標\n",
    "\n",
    "ロジスティック回帰モデルは以下の形で表される。\n",
    "\n",
    "$\\ln\\left(\\frac{p}{1-p}\\right) = \\beta_0 + \\beta_1 X_1 + \\cdots + \\beta_k X_k$\n",
    "\n",
    "ここで p はアウトカムが1となる確率。"
   ]
  },
  {
   "cell_type": "code",
   "execution_count": 5,
   "id": "f73aefaa-88c5-4f1f-91d9-33d4bf930f27",
   "metadata": {},
   "outputs": [
    {
     "name": "stdout",
     "output_type": "stream",
     "text": [
      "Optimization terminated successfully.\n",
      "         Current function value: 0.534822\n",
      "         Iterations 6\n",
      "                           Logit Regression Results                           \n",
      "==============================================================================\n",
      "Dep. Variable:                outcome   No. Observations:                10000\n",
      "Model:                          Logit   Df Residuals:                     9997\n",
      "Method:                           MLE   Df Model:                            2\n",
      "Date:                Mon, 17 Feb 2025   Pseudo R-squ.:                  0.2243\n",
      "Time:                        17:49:51   Log-Likelihood:                -5348.2\n",
      "converged:                       True   LL-Null:                       -6894.4\n",
      "Covariance Type:            nonrobust   LLR p-value:                     0.000\n",
      "==============================================================================\n",
      "                 coef    std err          z      P>|z|      [0.025      0.975]\n",
      "------------------------------------------------------------------------------\n",
      "const         -4.8393      0.107    -45.146      0.000      -5.049      -4.629\n",
      "treatment      1.5157      0.050     30.451      0.000       1.418       1.613\n",
      "age            0.0967      0.002     41.980      0.000       0.092       0.101\n",
      "==============================================================================\n"
     ]
    }
   ],
   "source": [
    "import numpy as np\n",
    "import pandas as pd\n",
    "import statsmodels.api as sm\n",
    "\n",
    "np.random.seed(42)\n",
    "n = 10000\n",
    "\n",
    "treatment = np.random.binomial(1, 0.5, n)\n",
    "age = np.random.randint(20, 61, n)\n",
    "logit = -5 + 0.1 * age + 1.5 * treatment\n",
    "prob = 1 / (1 + np.exp(-logit))\n",
    "outcome = np.random.binomial(1, prob)\n",
    "\n",
    "df_logit = pd.DataFrame({\n",
    "    'outcome': outcome,\n",
    "    'treatment': treatment,\n",
    "    'age': age\n",
    "})\n",
    "\n",
    "X_logit = sm.add_constant(df_logit[['treatment', 'age']])\n",
    "y_logit = df_logit['outcome']\n",
    "\n",
    "# このモデルでは、治療の係数オッズ比が、治療がアウトカムに与える効果を示す。\n",
    "model_logit = sm.Logit(y_logit, X_logit).fit()\n",
    "print(model_logit.summary())"
   ]
  },
  {
   "cell_type": "markdown",
   "id": "6cf804bb-f632-4f96-935e-9ec177cbdf76",
   "metadata": {},
   "source": [
    "## 一般化線形モデル (GLM; Generalized Linear Model)"
   ]
  },
  {
   "cell_type": "markdown",
   "id": "8cb0a967-ebc8-4835-95e4-c0d75091d26c",
   "metadata": {},
   "source": [
    "GLM は、OLS 回帰を拡張した手法で、アウトカムの分布が正規分布以外の場合でも柔軟に扱える統一的な枠組み。\n",
    "\n",
    "- リンク関数 (Link Function)：説明変数の線形結合と、アウトカムの期待値 $\\mu$ を結び付ける関数。たとえば、ロジスティック回帰ではロジットリンク（ $\\text{logit}(p)$ ）、ポアソン回帰では対数リンク（ $\\ln(\\mu)$ ）が使われる。\n",
    "- 分布族 (Exponential Family)：GLM ではアウトカムが従う確率分布として、正規分布、二項分布、ポアソン分布などを仮定。\n",
    "- モデルの一般形\n",
    "GLM は次のように表現される。\n",
    "\n",
    "$g(\\mu_i) = \\beta_0 + \\beta_1 X_{1i} + \\cdots + \\beta_k X_{ki}$\n",
    "\n",
    "ここで、 $g(\\cdot)$  がリンク関数、$\\mu_i = E(Y_i)$ です。たとえば、ロジスティック回帰の場合、 $g(p) = \\ln\\left(\\frac{p}{1-p}\\right)$  となる。"
   ]
  },
  {
   "cell_type": "code",
   "execution_count": 9,
   "id": "dccf8832-6aa0-45ac-94cb-993dc0721c9d",
   "metadata": {},
   "outputs": [
    {
     "name": "stdout",
     "output_type": "stream",
     "text": [
      "                 Generalized Linear Model Regression Results                  \n",
      "==============================================================================\n",
      "Dep. Variable:                outcome   No. Observations:                10000\n",
      "Model:                            GLM   Df Residuals:                     9997\n",
      "Model Family:                Binomial   Df Model:                            2\n",
      "Link Function:                  Logit   Scale:                          1.0000\n",
      "Method:                          IRLS   Log-Likelihood:                -5348.2\n",
      "Date:                Sun, 16 Feb 2025   Deviance:                       10696.\n",
      "Time:                        16:49:26   Pearson chi2:                 9.99e+03\n",
      "No. Iterations:                     5   Pseudo R-squ. (CS):             0.2660\n",
      "Covariance Type:            nonrobust                                         \n",
      "==============================================================================\n",
      "                 coef    std err          z      P>|z|      [0.025      0.975]\n",
      "------------------------------------------------------------------------------\n",
      "Intercept     -4.8393      0.107    -45.146      0.000      -5.049      -4.629\n",
      "treatment      1.5157      0.050     30.451      0.000       1.418       1.613\n",
      "age            0.0967      0.002     41.980      0.000       0.092       0.101\n",
      "==============================================================================\n"
     ]
    }
   ],
   "source": [
    "import numpy as np\n",
    "import pandas as pd\n",
    "import statsmodels.api as sm\n",
    "import statsmodels.formula.api as smf\n",
    "\n",
    "np.random.seed(42)\n",
    "n = 10000\n",
    "\n",
    "treatment = np.random.binomial(1, 0.5, n)\n",
    "age = np.random.randint(20, 61, n)\n",
    "logit = -5 + 0.1 * age + 1.5 * treatment\n",
    "prob = 1 / (1 + np.exp(-logit))\n",
    "outcome = np.random.binomial(1, prob)\n",
    "\n",
    "df_glm = pd.DataFrame({\n",
    "    'outcome': outcome,\n",
    "    'treatment': treatment,\n",
    "    'age': age\n",
    "})\n",
    "\n",
    "# GLM を用いたロジスティック回帰\n",
    "# family=sm.families.Binomial() で二項分布を指定\n",
    "model_glm = smf.glm(formula=\"outcome ~ treatment + age\", data=df_glm,\n",
    "                    family=sm.families.Binomial()).fit()\n",
    "print(model_glm.summary())"
   ]
  },
  {
   "cell_type": "markdown",
   "id": "761a636f-5eea-4951-a017-07eabb1eaeec",
   "metadata": {},
   "source": [
    "- リンク関数：例えばロジスティック回帰では、リンク関数 $g(p) = \\ln\\left(\\frac{p}{1-p}\\right)$ が使われ、モデルは $\\ln\\left(\\frac{p}{1-p}\\right) = \\beta_0 + \\beta_1 \\text{treatment} + \\beta_2 \\text{age}$ と表されます。\n",
    "- 分布族：ここではアウトカムが二値なので、二項分布（Binomial）が適用されますが、GLM では他にもポアソン分布やガンマ分布などを指定でき、さまざまなデータの性質に合わせてモデルを構築できます。"
   ]
  },
  {
   "cell_type": "markdown",
   "id": "f825b90b-e2a6-47ae-8e32-e61c9edce7c4",
   "metadata": {},
   "source": [
    "# 出力の解釈"
   ]
  },
  {
   "cell_type": "markdown",
   "id": "88ab8dfc-14af-446c-9f7e-17b6fdaf67ce",
   "metadata": {},
   "source": [
    "(OLS回帰の場合)\n",
    "\n",
    "この結果は、OLS（普通最小二乗法）回帰モデルを用いて、説明変数として「treatment」と「age」を用い、目的変数「outcome」に対するモデルの適合度や各係数の推定結果を示している。回帰分析では、各説明変数が目的変数に与える影響の大きさ（係数）と、その係数の統計的有意性を検証するものである。\n",
    "\n",
    "- Dep. Variable: outcome\n",
    "被説明変数（目的変数）は outcome である。\n",
    "\n",
    "- R-squared: 0.711\n",
    " 決定係数（R²）は0.711であり、モデルが目的変数の変動の約71.1%を説明している。値が1に近いほど、モデルの説明力が高いことを示す。\n",
    "\t\n",
    "- Adj. R-squared: 0.711\n",
    "自由度調整済み決定係数であり、説明変数の数を考慮して調整された値で、ここではほぼ同じである。\n",
    "\n",
    "- F-statistic: 1.231e+04\n",
    "モデル全体が有意かどうかを評価する F 検定の統計量である。この値が大きいということは、少なくとも1つの説明変数が目的変数に有意な影響を与えていることを示す。\n",
    "\n",
    "- Prob (F-statistic): 0.00\n",
    "F統計量に対応する p 値は0.00であり、モデル全体が統計的に有意であると判断できる。\n",
    "\n",
    "- AIC: 60570 および BIC: 60590\n",
    "これらはモデル選択の指標であり、値が小さいほど良いモデルとされる。ただし、これらは他のモデルと比較する際に用いる。\n",
    "\n",
    "### 各説明変数の推定結果\n",
    "\n",
    "以下の表は、各説明変数の推定結果を示している。\n",
    "\n",
    "| 変数       | coef    | std err  | t       | P>t    | [0.025, 0.975]           |\n",
    "|---|---|---|---|---|-----|\n",
    "| const      | 19.7749 | 0.183    | 108.029 | 0.000   | 19.416 ～ 20.134          |\n",
    "| treatment  | 10.2499 | 0.100    | 102.514 | 0.000   | 10.054 ～ 10.446          |\n",
    "| age        | 0.5041  | 0.004    | 118.935 | 0.000   | 0.496 ～ 0.512            |\n",
    "\n",
    "const (切片)\n",
    "- 切片の係数は 19.7749 であり、全ての説明変数が 0 の場合に予測される outcome の値は約19.77である。\n",
    "- 標準誤差は 0.183 であり、これは推定の不確かさを表す指標である。\n",
    "- t値が 108.029、p値が 0.000 であることから、切片は統計的に有意であると判断される。\n",
    "\n",
    "treatment\n",
    "- treatment の係数は 10.2499 であり、治療群の場合、平均でアウトカムが約10.25増加することを示している。\n",
    "- 標準誤差は 0.100 で、t値は 102.514、p値は 0.000 であるため、この効果は非常に有意である。\n",
    "- 95% 信頼区間は 10.054 から 10.446 であり、真の効果がこの範囲にあると95%の信頼性で言える。\n",
    "\n",
    "age\n",
    "- age の係数は 0.5041 であり、年齢が1歳増加するごとにアウトカムは約0.50増加することを示している。\n",
    "- 標準誤差は 0.004 と非常に小さく、t値は 118.935、p値は 0.000 であるため、統計的に非常に有意な影響がある。\n",
    "- 信頼区間は 0.496 から 0.512 であり、推定値は非常に精度が高い。\n",
    "\n",
    "残差と診断統計量\n",
    "- Omnibus: 0.085, Prob(Omnibus): 0.958\n",
    "残差の正規性を検定する指標であり、p値が0.958と非常に高いため、残差は正規分布に従っているとみなせる。\n",
    "- Durbin-Watson: 2.023\n",
    "自己相関の検定指標であり、値が約2に近いため、残差間に自己相関はほぼないと判断される。\n",
    "- Jarque-Bera (JB): 0.106, Prob(JB): 0.948\n",
    "こちらも残差の正規性を検定する統計量であり、p値が0.948であるため、残差は正規分布に従っていると評価できる。\n",
    "- Skew: 0.000, Kurtosis: 2.984\n",
    "残差の歪度と尖度を示しており、理想的な正規分布では歪度は0、尖度は3に近い。今回の値は正規性の仮定とほぼ整合している。\n",
    "- Cond. No.: 155\n",
    "説明変数間の共線性の指標であり、一般に 10～30 以上で注意が必要だが、ここでは 155 と示されているが、大きな問題ではないと考えられる（ただしケースバイケースで判断する）。"
   ]
  },
  {
   "cell_type": "code",
   "execution_count": null,
   "id": "5b4fe634-7187-41a9-a391-dca048bfb5c0",
   "metadata": {},
   "outputs": [],
   "source": []
  }
 ],
 "metadata": {
  "kernelspec": {
   "display_name": "Python 3 (ipykernel)",
   "language": "python",
   "name": "python3"
  },
  "language_info": {
   "codemirror_mode": {
    "name": "ipython",
    "version": 3
   },
   "file_extension": ".py",
   "mimetype": "text/x-python",
   "name": "python",
   "nbconvert_exporter": "python",
   "pygments_lexer": "ipython3",
   "version": "3.11.9"
  }
 },
 "nbformat": 4,
 "nbformat_minor": 5
}
